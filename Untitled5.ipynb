{
  "nbformat": 4,
  "nbformat_minor": 0,
  "metadata": {
    "colab": {
      "provenance": [],
      "authorship_tag": "ABX9TyN0N+oP2GetoKSPAthP66I0",
      "include_colab_link": true
    },
    "kernelspec": {
      "name": "ir",
      "display_name": "R"
    },
    "language_info": {
      "name": "R"
    }
  },
  "cells": [
    {
      "cell_type": "markdown",
      "metadata": {
        "id": "view-in-github",
        "colab_type": "text"
      },
      "source": [
        "<a href=\"https://colab.research.google.com/github/gdurang/Semana1/blob/master/Untitled5.ipynb\" target=\"_parent\"><img src=\"https://colab.research.google.com/assets/colab-badge.svg\" alt=\"Open In Colab\"/></a>"
      ]
    },
    {
      "cell_type": "code",
      "execution_count": 11,
      "metadata": {
        "id": "nWnpFJmuSE63"
      },
      "outputs": [],
      "source": [
        "# prompt: Crea una función que valide RUT\n",
        "\n",
        "# Función para validar RUT\n",
        "validar_rut <- function(rut) {\n",
        "  # Eliminar puntos y guiones\n",
        "  rut <- gsub(\"[\\\\.-]\", \"\", rut)\n",
        "  ? rut\n",
        "  # Verificar longitud\n",
        "  if (nchar(rut) != 9) {\n",
        "    return(FALSE)\n",
        "  }\n",
        "\n",
        "  # Extraer dígito verificador\n",
        "  dv <- substr(rut, 9, 9)\n",
        "\n",
        "  # Calcular dígito verificador\n",
        "  rut_sin_dv <- substr(rut, 1, 8)\n",
        "  factor <- c(2, 3, 4, 5, 6, 7, 2, 3)\n",
        "  suma <- sum(as.numeric(strsplit(rut_sin_dv, \"\")[[1]]) * factor)\n",
        "  resto <- suma %% 11\n",
        "  dv_calculado <- 11 - resto\n",
        "\n",
        "  # Verificar dígito verificador\n",
        "  if (dv_calculado == 10) {\n",
        "    dv_calculado <- \"K\"\n",
        "  } else if (dv_calculado == 11) {\n",
        "    dv_calculado <- \"0\"\n",
        "  }\n",
        "\n",
        "  # Retornar resultado\n",
        "  return(dv == dv_calculado)\n",
        "}\n"
      ]
    },
    {
      "cell_type": "code",
      "source": [
        "rut<-\"11.111.111-1\""
      ],
      "metadata": {
        "id": "KwbUKl8PT1iA"
      },
      "execution_count": 24,
      "outputs": []
    },
    {
      "cell_type": "code",
      "source": [
        "validar_rut(rut)"
      ],
      "metadata": {
        "colab": {
          "base_uri": "https://localhost:8080/",
          "height": 34
        },
        "id": "OL75XP_vUKlH",
        "outputId": "7e089b33-5c64-45d9-913e-996c48d5cfaa"
      },
      "execution_count": 25,
      "outputs": [
        {
          "output_type": "display_data",
          "data": {
            "text/html": [
              "TRUE"
            ],
            "text/markdown": "TRUE",
            "text/latex": "TRUE",
            "text/plain": [
              "[1] TRUE"
            ]
          },
          "metadata": {}
        }
      ]
    }
  ]
}